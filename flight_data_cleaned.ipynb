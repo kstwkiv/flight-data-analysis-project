{
 "cells": [
  {
   "cell_type": "code",
   "execution_count": 2,
   "id": "a58861ff-c078-43ba-bf00-58648e2919b3",
   "metadata": {},
   "outputs": [],
   "source": [
    "#Load dependencies\n",
    "import numpy as np\n",
    "import pandas as pd\n",
    "#import pandas_profiling as pdp\n",
    "import matplotlib.pyplot as plt\n",
    "import seaborn as sns\n",
    "# This line tells the notebook to show plots inside of the notebook\n",
    "%matplotlib inline"
   ]
  },
  {
   "cell_type": "code",
   "execution_count": 4,
   "id": "c4a0b7ca-4141-4a32-b46e-b52877ae1c04",
   "metadata": {},
   "outputs": [
    {
     "name": "stderr",
     "output_type": "stream",
     "text": [
      "C:\\Users\\admin\\AppData\\Local\\Temp\\ipykernel_15436\\2016872835.py:2: DtypeWarning: Columns (11,12) have mixed types. Specify dtype option on import or set low_memory=False.\n",
      "  df = pd.read_csv(file, encoding = 'unicode_escape')\n"
     ]
    }
   ],
   "source": [
    "file=r\"D:\\EXCELL\\Flight_Data.csv\"\n",
    "df = pd.read_csv(file, encoding = 'unicode_escape')"
   ]
  },
  {
   "cell_type": "code",
   "execution_count": 5,
   "id": "30927d26-4a9b-4325-ae0b-fa02629e3302",
   "metadata": {},
   "outputs": [
    {
     "data": {
      "text/html": [
       "<div>\n",
       "<style scoped>\n",
       "    .dataframe tbody tr th:only-of-type {\n",
       "        vertical-align: middle;\n",
       "    }\n",
       "\n",
       "    .dataframe tbody tr th {\n",
       "        vertical-align: top;\n",
       "    }\n",
       "\n",
       "    .dataframe thead th {\n",
       "        text-align: right;\n",
       "    }\n",
       "</style>\n",
       "<table border=\"1\" class=\"dataframe\">\n",
       "  <thead>\n",
       "    <tr style=\"text-align: right;\">\n",
       "      <th></th>\n",
       "      <th>Unnamed: 0</th>\n",
       "      <th>airline</th>\n",
       "      <th>flight</th>\n",
       "      <th>source_city</th>\n",
       "      <th>departure_time</th>\n",
       "      <th>stops</th>\n",
       "      <th>arrival_time</th>\n",
       "      <th>destination_city</th>\n",
       "      <th>class</th>\n",
       "      <th>duration</th>\n",
       "      <th>days_left</th>\n",
       "      <th>price</th>\n",
       "      <th>date</th>\n",
       "    </tr>\n",
       "  </thead>\n",
       "  <tbody>\n",
       "    <tr>\n",
       "      <th>0</th>\n",
       "      <td>0</td>\n",
       "      <td>SpiceJet</td>\n",
       "      <td>SG-8709</td>\n",
       "      <td>Delhi</td>\n",
       "      <td>Evening</td>\n",
       "      <td>zero</td>\n",
       "      <td>Night</td>\n",
       "      <td>Mumbai</td>\n",
       "      <td>Economy</td>\n",
       "      <td>2.17</td>\n",
       "      <td>1</td>\n",
       "      <td>5953</td>\n",
       "      <td>01-01-2018</td>\n",
       "    </tr>\n",
       "    <tr>\n",
       "      <th>1</th>\n",
       "      <td>1</td>\n",
       "      <td>SpiceJet</td>\n",
       "      <td>SG-8157</td>\n",
       "      <td>Delhi</td>\n",
       "      <td>Early_Morning</td>\n",
       "      <td>zero</td>\n",
       "      <td>Morning</td>\n",
       "      <td>Mumbai</td>\n",
       "      <td>Economy</td>\n",
       "      <td>2.33</td>\n",
       "      <td>1</td>\n",
       "      <td>5953</td>\n",
       "      <td>02-01-2018</td>\n",
       "    </tr>\n",
       "    <tr>\n",
       "      <th>2</th>\n",
       "      <td>2</td>\n",
       "      <td>AirAsia</td>\n",
       "      <td>I5-764</td>\n",
       "      <td>Delhi</td>\n",
       "      <td>Early_Morning</td>\n",
       "      <td>zero</td>\n",
       "      <td>Early_Morning</td>\n",
       "      <td>Mumbai</td>\n",
       "      <td>Economy</td>\n",
       "      <td>2.17</td>\n",
       "      <td>1</td>\n",
       "      <td>5956</td>\n",
       "      <td>03-01-2018</td>\n",
       "    </tr>\n",
       "    <tr>\n",
       "      <th>3</th>\n",
       "      <td>3</td>\n",
       "      <td>Vistara</td>\n",
       "      <td>UK-995</td>\n",
       "      <td>Delhi</td>\n",
       "      <td>Morning</td>\n",
       "      <td>zero</td>\n",
       "      <td>Afternoon</td>\n",
       "      <td>Mumbai</td>\n",
       "      <td>Economy</td>\n",
       "      <td>2.25</td>\n",
       "      <td>1</td>\n",
       "      <td>5955</td>\n",
       "      <td>04-01-2018</td>\n",
       "    </tr>\n",
       "    <tr>\n",
       "      <th>4</th>\n",
       "      <td>4</td>\n",
       "      <td>Vistara</td>\n",
       "      <td>UK-963</td>\n",
       "      <td>Delhi</td>\n",
       "      <td>Morning</td>\n",
       "      <td>zero</td>\n",
       "      <td>Morning</td>\n",
       "      <td>Mumbai</td>\n",
       "      <td>Economy</td>\n",
       "      <td>2.33</td>\n",
       "      <td>1</td>\n",
       "      <td>5955</td>\n",
       "      <td>05-01-2018</td>\n",
       "    </tr>\n",
       "  </tbody>\n",
       "</table>\n",
       "</div>"
      ],
      "text/plain": [
       "   Unnamed: 0   airline   flight source_city departure_time stops  \\\n",
       "0           0  SpiceJet  SG-8709       Delhi        Evening  zero   \n",
       "1           1  SpiceJet  SG-8157       Delhi  Early_Morning  zero   \n",
       "2           2   AirAsia   I5-764       Delhi  Early_Morning  zero   \n",
       "3           3   Vistara   UK-995       Delhi        Morning  zero   \n",
       "4           4   Vistara   UK-963       Delhi        Morning  zero   \n",
       "\n",
       "    arrival_time destination_city    class  duration  days_left price  \\\n",
       "0          Night           Mumbai  Economy      2.17          1  5953   \n",
       "1        Morning           Mumbai  Economy      2.33          1  5953   \n",
       "2  Early_Morning           Mumbai  Economy      2.17          1  5956   \n",
       "3      Afternoon           Mumbai  Economy      2.25          1  5955   \n",
       "4        Morning           Mumbai  Economy      2.33          1  5955   \n",
       "\n",
       "         date  \n",
       "0  01-01-2018  \n",
       "1  02-01-2018  \n",
       "2  03-01-2018  \n",
       "3  04-01-2018  \n",
       "4  05-01-2018  "
      ]
     },
     "execution_count": 5,
     "metadata": {},
     "output_type": "execute_result"
    }
   ],
   "source": [
    "df.head(5)"
   ]
  },
  {
   "cell_type": "code",
   "execution_count": 6,
   "id": "5b55426b-c14b-4dfe-9a82-a99632420835",
   "metadata": {},
   "outputs": [
    {
     "name": "stdout",
     "output_type": "stream",
     "text": [
      "<class 'pandas.core.frame.DataFrame'>\n",
      "RangeIndex: 301206 entries, 0 to 301205\n",
      "Data columns (total 13 columns):\n",
      " #   Column            Non-Null Count   Dtype  \n",
      "---  ------            --------------   -----  \n",
      " 0   Unnamed: 0        301206 non-null  int64  \n",
      " 1   airline           300754 non-null  object \n",
      " 2   flight            301206 non-null  object \n",
      " 3   source_city       301206 non-null  object \n",
      " 4   departure_time    301206 non-null  object \n",
      " 5   stops             301206 non-null  object \n",
      " 6   arrival_time      301206 non-null  object \n",
      " 7   destination_city  301206 non-null  object \n",
      " 8   class             301006 non-null  object \n",
      " 9   duration          300956 non-null  float64\n",
      " 10  days_left         301206 non-null  int64  \n",
      " 11  price             301106 non-null  object \n",
      " 12  date              358 non-null     object \n",
      "dtypes: float64(1), int64(2), object(10)\n",
      "memory usage: 29.9+ MB\n"
     ]
    }
   ],
   "source": [
    "df.info()"
   ]
  },
  {
   "cell_type": "code",
   "execution_count": 7,
   "id": "7f36cc51-40b5-4f0c-b5d2-b8876cdc8293",
   "metadata": {},
   "outputs": [
    {
     "data": {
      "text/html": [
       "<div>\n",
       "<style scoped>\n",
       "    .dataframe tbody tr th:only-of-type {\n",
       "        vertical-align: middle;\n",
       "    }\n",
       "\n",
       "    .dataframe tbody tr th {\n",
       "        vertical-align: top;\n",
       "    }\n",
       "\n",
       "    .dataframe thead th {\n",
       "        text-align: right;\n",
       "    }\n",
       "</style>\n",
       "<table border=\"1\" class=\"dataframe\">\n",
       "  <thead>\n",
       "    <tr style=\"text-align: right;\">\n",
       "      <th></th>\n",
       "      <th>Unnamed: 0</th>\n",
       "      <th>airline</th>\n",
       "      <th>flight</th>\n",
       "      <th>source_city</th>\n",
       "      <th>departure_time</th>\n",
       "      <th>stops</th>\n",
       "      <th>arrival_time</th>\n",
       "      <th>destination_city</th>\n",
       "      <th>class</th>\n",
       "      <th>duration</th>\n",
       "      <th>days_left</th>\n",
       "      <th>price</th>\n",
       "      <th>date</th>\n",
       "    </tr>\n",
       "  </thead>\n",
       "  <tbody>\n",
       "    <tr>\n",
       "      <th>301201</th>\n",
       "      <td>1300218</td>\n",
       "      <td>Vistara</td>\n",
       "      <td>UK-747</td>\n",
       "      <td>Delhi</td>\n",
       "      <td>Early_Morning</td>\n",
       "      <td>one</td>\n",
       "      <td>Night</td>\n",
       "      <td>Mumbai</td>\n",
       "      <td>Economy</td>\n",
       "      <td>113.83</td>\n",
       "      <td>1</td>\n",
       "      <td>14985</td>\n",
       "      <td>15-03-2018</td>\n",
       "    </tr>\n",
       "    <tr>\n",
       "      <th>301202</th>\n",
       "      <td>1300219</td>\n",
       "      <td>Air_India</td>\n",
       "      <td>AI-512</td>\n",
       "      <td>Delhi</td>\n",
       "      <td>Afternoon</td>\n",
       "      <td>one</td>\n",
       "      <td>Night</td>\n",
       "      <td>Mumbai</td>\n",
       "      <td>Economy</td>\n",
       "      <td>97.58</td>\n",
       "      <td>1</td>\n",
       "      <td>14670</td>\n",
       "      <td>16-03-2018</td>\n",
       "    </tr>\n",
       "    <tr>\n",
       "      <th>301203</th>\n",
       "      <td>1300220</td>\n",
       "      <td>Air_India</td>\n",
       "      <td>AI-537</td>\n",
       "      <td>Delhi</td>\n",
       "      <td>Evening</td>\n",
       "      <td>one</td>\n",
       "      <td>Morning</td>\n",
       "      <td>Mumbai</td>\n",
       "      <td>Economy</td>\n",
       "      <td>115.83</td>\n",
       "      <td>1</td>\n",
       "      <td>15195</td>\n",
       "      <td>17-03-2018</td>\n",
       "    </tr>\n",
       "    <tr>\n",
       "      <th>301204</th>\n",
       "      <td>1300221</td>\n",
       "      <td>Vistara</td>\n",
       "      <td>UK-977</td>\n",
       "      <td>Delhi</td>\n",
       "      <td>Evening</td>\n",
       "      <td>zero</td>\n",
       "      <td>Night</td>\n",
       "      <td>Mumbai</td>\n",
       "      <td>Economy</td>\n",
       "      <td>622.25</td>\n",
       "      <td>1</td>\n",
       "      <td>15720</td>\n",
       "      <td>18-03-2018</td>\n",
       "    </tr>\n",
       "    <tr>\n",
       "      <th>301205</th>\n",
       "      <td>1300222</td>\n",
       "      <td>Vistara</td>\n",
       "      <td>UK-809</td>\n",
       "      <td>Delhi</td>\n",
       "      <td>Evening</td>\n",
       "      <td>one</td>\n",
       "      <td>Night</td>\n",
       "      <td>Mumbai</td>\n",
       "      <td>Economy</td>\n",
       "      <td>124.42</td>\n",
       "      <td>1</td>\n",
       "      <td>15983</td>\n",
       "      <td>19-03-2018</td>\n",
       "    </tr>\n",
       "  </tbody>\n",
       "</table>\n",
       "</div>"
      ],
      "text/plain": [
       "        Unnamed: 0    airline  flight source_city departure_time stops  \\\n",
       "301201     1300218    Vistara  UK-747       Delhi  Early_Morning   one   \n",
       "301202     1300219  Air_India  AI-512       Delhi      Afternoon   one   \n",
       "301203     1300220  Air_India  AI-537       Delhi        Evening   one   \n",
       "301204     1300221    Vistara  UK-977       Delhi        Evening  zero   \n",
       "301205     1300222    Vistara  UK-809       Delhi        Evening   one   \n",
       "\n",
       "       arrival_time destination_city    class  duration  days_left  price  \\\n",
       "301201        Night           Mumbai  Economy    113.83          1  14985   \n",
       "301202        Night           Mumbai  Economy     97.58          1  14670   \n",
       "301203      Morning           Mumbai  Economy    115.83          1  15195   \n",
       "301204        Night           Mumbai  Economy    622.25          1  15720   \n",
       "301205        Night           Mumbai  Economy    124.42          1  15983   \n",
       "\n",
       "              date  \n",
       "301201  15-03-2018  \n",
       "301202  16-03-2018  \n",
       "301203  17-03-2018  \n",
       "301204  18-03-2018  \n",
       "301205  19-03-2018  "
      ]
     },
     "execution_count": 7,
     "metadata": {},
     "output_type": "execute_result"
    }
   ],
   "source": [
    "df.tail()"
   ]
  },
  {
   "cell_type": "code",
   "execution_count": 8,
   "id": "a73b1ef4-972b-4c79-b4a7-2f267a104a62",
   "metadata": {
    "scrolled": true
   },
   "outputs": [
    {
     "name": "stdout",
     "output_type": "stream",
     "text": [
      "        Unnamed: 0    airline   flight source_city departure_time stops  \\\n",
      "0                0   SpiceJet  SG-8709       Delhi        Evening  zero   \n",
      "1                1   SpiceJet  SG-8157       Delhi  Early_Morning  zero   \n",
      "2                2    AirAsia   I5-764       Delhi  Early_Morning  zero   \n",
      "3                3    Vistara   UK-995       Delhi        Morning  zero   \n",
      "4                4    Vistara   UK-963       Delhi        Morning  zero   \n",
      "...            ...        ...      ...         ...            ...   ...   \n",
      "301201     1300218    Vistara   UK-747       Delhi  Early_Morning   one   \n",
      "301202     1300219  Air_India   AI-512       Delhi      Afternoon   one   \n",
      "301203     1300220  Air_India   AI-537       Delhi        Evening   one   \n",
      "301204     1300221    Vistara   UK-977       Delhi        Evening  zero   \n",
      "301205     1300222    Vistara   UK-809       Delhi        Evening   one   \n",
      "\n",
      "         arrival_time destination_city    class  duration  days_left  price  \\\n",
      "0               Night           Mumbai  Economy      2.17          1   5953   \n",
      "1             Morning           Mumbai  Economy      2.33          1   5953   \n",
      "2       Early_Morning           Mumbai  Economy      2.17          1   5956   \n",
      "3           Afternoon           Mumbai  Economy      2.25          1   5955   \n",
      "4             Morning           Mumbai  Economy      2.33          1   5955   \n",
      "...               ...              ...      ...       ...        ...    ...   \n",
      "301201          Night           Mumbai  Economy    113.83          1  14985   \n",
      "301202          Night           Mumbai  Economy     97.58          1  14670   \n",
      "301203        Morning           Mumbai  Economy    115.83          1  15195   \n",
      "301204          Night           Mumbai  Economy    622.25          1  15720   \n",
      "301205          Night           Mumbai  Economy    124.42          1  15983   \n",
      "\n",
      "              date  \n",
      "0       01-01-2018  \n",
      "1       02-01-2018  \n",
      "2       03-01-2018  \n",
      "3       04-01-2018  \n",
      "4       05-01-2018  \n",
      "...            ...  \n",
      "301201  15-03-2018  \n",
      "301202  16-03-2018  \n",
      "301203  17-03-2018  \n",
      "301204  18-03-2018  \n",
      "301205  19-03-2018  \n",
      "\n",
      "[301206 rows x 13 columns]\n"
     ]
    }
   ],
   "source": [
    "print(df)"
   ]
  },
  {
   "cell_type": "code",
   "execution_count": 9,
   "id": "9eb3db92-e0d5-44b2-8d7f-03181eae4c8b",
   "metadata": {},
   "outputs": [
    {
     "name": "stdout",
     "output_type": "stream",
     "text": [
      "Unnamed: 0               0\n",
      "airline                452\n",
      "flight                   0\n",
      "source_city              0\n",
      "departure_time           0\n",
      "stops                    0\n",
      "arrival_time             0\n",
      "destination_city         0\n",
      "class                  200\n",
      "duration               250\n",
      "days_left                0\n",
      "price                  100\n",
      "date                300848\n",
      "dtype: int64\n"
     ]
    }
   ],
   "source": [
    "print(df.isnull().sum())"
   ]
  },
  {
   "cell_type": "code",
   "execution_count": 10,
   "id": "72d9269b-dd56-4fc2-a560-54c89f8280d2",
   "metadata": {},
   "outputs": [],
   "source": [
    "df.dropna(inplace=True)"
   ]
  },
  {
   "cell_type": "code",
   "execution_count": 11,
   "id": "724920b0-4f9c-4a06-83a1-050baa22a21b",
   "metadata": {},
   "outputs": [
    {
     "data": {
      "text/plain": [
       "(358, 13)"
      ]
     },
     "execution_count": 11,
     "metadata": {},
     "output_type": "execute_result"
    }
   ],
   "source": [
    "df.shape"
   ]
  },
  {
   "cell_type": "code",
   "execution_count": 12,
   "id": "508c934a-a673-4fc5-9a70-c91ef23ea10e",
   "metadata": {},
   "outputs": [],
   "source": [
    "df = df[df.notna().all(axis=1)]"
   ]
  },
  {
   "cell_type": "code",
   "execution_count": 13,
   "id": "c2ba6bee-5862-47ab-9b69-2247dd37b640",
   "metadata": {},
   "outputs": [
    {
     "data": {
      "text/plain": [
       "(358, 13)"
      ]
     },
     "execution_count": 13,
     "metadata": {},
     "output_type": "execute_result"
    }
   ],
   "source": [
    "df.shape"
   ]
  },
  {
   "cell_type": "code",
   "execution_count": 14,
   "id": "92844fd7-3d8f-496d-aecc-9490536a136c",
   "metadata": {},
   "outputs": [
    {
     "data": {
      "text/html": [
       "<div>\n",
       "<style scoped>\n",
       "    .dataframe tbody tr th:only-of-type {\n",
       "        vertical-align: middle;\n",
       "    }\n",
       "\n",
       "    .dataframe tbody tr th {\n",
       "        vertical-align: top;\n",
       "    }\n",
       "\n",
       "    .dataframe thead th {\n",
       "        text-align: right;\n",
       "    }\n",
       "</style>\n",
       "<table border=\"1\" class=\"dataframe\">\n",
       "  <thead>\n",
       "    <tr style=\"text-align: right;\">\n",
       "      <th></th>\n",
       "      <th>Unnamed: 0</th>\n",
       "      <th>duration</th>\n",
       "      <th>days_left</th>\n",
       "    </tr>\n",
       "  </thead>\n",
       "  <tbody>\n",
       "    <tr>\n",
       "      <th>count</th>\n",
       "      <td>3.580000e+02</td>\n",
       "      <td>358.000000</td>\n",
       "      <td>358.000000</td>\n",
       "    </tr>\n",
       "    <tr>\n",
       "      <th>mean</th>\n",
       "      <td>1.853548e+05</td>\n",
       "      <td>15.386061</td>\n",
       "      <td>1.684358</td>\n",
       "    </tr>\n",
       "    <tr>\n",
       "      <th>std</th>\n",
       "      <td>4.550265e+05</td>\n",
       "      <td>36.694823</td>\n",
       "      <td>0.728246</td>\n",
       "    </tr>\n",
       "    <tr>\n",
       "      <th>min</th>\n",
       "      <td>0.000000e+00</td>\n",
       "      <td>2.000000</td>\n",
       "      <td>1.000000</td>\n",
       "    </tr>\n",
       "    <tr>\n",
       "      <th>25%</th>\n",
       "      <td>8.925000e+01</td>\n",
       "      <td>2.330000</td>\n",
       "      <td>1.000000</td>\n",
       "    </tr>\n",
       "    <tr>\n",
       "      <th>50%</th>\n",
       "      <td>1.785000e+02</td>\n",
       "      <td>9.165000</td>\n",
       "      <td>2.000000</td>\n",
       "    </tr>\n",
       "    <tr>\n",
       "      <th>75%</th>\n",
       "      <td>2.677500e+02</td>\n",
       "      <td>17.980000</td>\n",
       "      <td>2.000000</td>\n",
       "    </tr>\n",
       "    <tr>\n",
       "      <th>max</th>\n",
       "      <td>1.300222e+06</td>\n",
       "      <td>622.250000</td>\n",
       "      <td>3.000000</td>\n",
       "    </tr>\n",
       "  </tbody>\n",
       "</table>\n",
       "</div>"
      ],
      "text/plain": [
       "         Unnamed: 0    duration   days_left\n",
       "count  3.580000e+02  358.000000  358.000000\n",
       "mean   1.853548e+05   15.386061    1.684358\n",
       "std    4.550265e+05   36.694823    0.728246\n",
       "min    0.000000e+00    2.000000    1.000000\n",
       "25%    8.925000e+01    2.330000    1.000000\n",
       "50%    1.785000e+02    9.165000    2.000000\n",
       "75%    2.677500e+02   17.980000    2.000000\n",
       "max    1.300222e+06  622.250000    3.000000"
      ]
     },
     "execution_count": 14,
     "metadata": {},
     "output_type": "execute_result"
    }
   ],
   "source": [
    "df.describe()"
   ]
  },
  {
   "cell_type": "code",
   "execution_count": 17,
   "id": "7781ef1b-695d-435e-90e7-e881a1cc684f",
   "metadata": {},
   "outputs": [
    {
     "data": {
      "text/plain": [
       "Index(['Unnamed: 0', 'airline', 'flight', 'source_city', 'departure_time',\n",
       "       'stops', 'arrival_time', 'destination_city', 'class', 'duration',\n",
       "       'days_left', 'price', 'date'],\n",
       "      dtype='object')"
      ]
     },
     "execution_count": 17,
     "metadata": {},
     "output_type": "execute_result"
    }
   ],
   "source": [
    "df.columns"
   ]
  },
  {
   "cell_type": "code",
   "execution_count": 19,
   "id": "342d7093-bf05-4f8e-8082-ac752a60c116",
   "metadata": {},
   "outputs": [
    {
     "name": "stdout",
     "output_type": "stream",
     "text": [
      "0\n"
     ]
    }
   ],
   "source": [
    "# check for duplicate rows\n",
    "print(df.duplicated().sum())"
   ]
  },
  {
   "cell_type": "code",
   "execution_count": 20,
   "id": "43bca00f-a455-489d-bad5-a5c4d9d4e626",
   "metadata": {},
   "outputs": [],
   "source": [
    "df.drop_duplicates(inplace=True)"
   ]
  },
  {
   "cell_type": "code",
   "execution_count": 21,
   "id": "2738fc8c-0a67-497a-8d1e-ee452d900cc4",
   "metadata": {},
   "outputs": [
    {
     "data": {
      "text/html": [
       "<div>\n",
       "<style scoped>\n",
       "    .dataframe tbody tr th:only-of-type {\n",
       "        vertical-align: middle;\n",
       "    }\n",
       "\n",
       "    .dataframe tbody tr th {\n",
       "        vertical-align: top;\n",
       "    }\n",
       "\n",
       "    .dataframe thead th {\n",
       "        text-align: right;\n",
       "    }\n",
       "</style>\n",
       "<table border=\"1\" class=\"dataframe\">\n",
       "  <thead>\n",
       "    <tr style=\"text-align: right;\">\n",
       "      <th></th>\n",
       "      <th>Unnamed: 0</th>\n",
       "      <th>airline</th>\n",
       "      <th>flight</th>\n",
       "      <th>source_city</th>\n",
       "      <th>departure_time</th>\n",
       "      <th>stops</th>\n",
       "      <th>arrival_time</th>\n",
       "      <th>destination_city</th>\n",
       "      <th>class</th>\n",
       "      <th>duration</th>\n",
       "      <th>days_left</th>\n",
       "      <th>price</th>\n",
       "      <th>date</th>\n",
       "    </tr>\n",
       "  </thead>\n",
       "  <tbody>\n",
       "    <tr>\n",
       "      <th>0</th>\n",
       "      <td>0</td>\n",
       "      <td>SpiceJet</td>\n",
       "      <td>SG-8709</td>\n",
       "      <td>Delhi</td>\n",
       "      <td>Evening</td>\n",
       "      <td>zero</td>\n",
       "      <td>Night</td>\n",
       "      <td>Mumbai</td>\n",
       "      <td>Economy</td>\n",
       "      <td>2.17</td>\n",
       "      <td>1</td>\n",
       "      <td>5953</td>\n",
       "      <td>01-01-2018</td>\n",
       "    </tr>\n",
       "    <tr>\n",
       "      <th>1</th>\n",
       "      <td>1</td>\n",
       "      <td>SpiceJet</td>\n",
       "      <td>SG-8157</td>\n",
       "      <td>Delhi</td>\n",
       "      <td>Early_Morning</td>\n",
       "      <td>zero</td>\n",
       "      <td>Morning</td>\n",
       "      <td>Mumbai</td>\n",
       "      <td>Economy</td>\n",
       "      <td>2.33</td>\n",
       "      <td>1</td>\n",
       "      <td>5953</td>\n",
       "      <td>02-01-2018</td>\n",
       "    </tr>\n",
       "    <tr>\n",
       "      <th>2</th>\n",
       "      <td>2</td>\n",
       "      <td>AirAsia</td>\n",
       "      <td>I5-764</td>\n",
       "      <td>Delhi</td>\n",
       "      <td>Early_Morning</td>\n",
       "      <td>zero</td>\n",
       "      <td>Early_Morning</td>\n",
       "      <td>Mumbai</td>\n",
       "      <td>Economy</td>\n",
       "      <td>2.17</td>\n",
       "      <td>1</td>\n",
       "      <td>5956</td>\n",
       "      <td>03-01-2018</td>\n",
       "    </tr>\n",
       "    <tr>\n",
       "      <th>3</th>\n",
       "      <td>3</td>\n",
       "      <td>Vistara</td>\n",
       "      <td>UK-995</td>\n",
       "      <td>Delhi</td>\n",
       "      <td>Morning</td>\n",
       "      <td>zero</td>\n",
       "      <td>Afternoon</td>\n",
       "      <td>Mumbai</td>\n",
       "      <td>Economy</td>\n",
       "      <td>2.25</td>\n",
       "      <td>1</td>\n",
       "      <td>5955</td>\n",
       "      <td>04-01-2018</td>\n",
       "    </tr>\n",
       "    <tr>\n",
       "      <th>4</th>\n",
       "      <td>4</td>\n",
       "      <td>Vistara</td>\n",
       "      <td>UK-963</td>\n",
       "      <td>Delhi</td>\n",
       "      <td>Morning</td>\n",
       "      <td>zero</td>\n",
       "      <td>Morning</td>\n",
       "      <td>Mumbai</td>\n",
       "      <td>Economy</td>\n",
       "      <td>2.33</td>\n",
       "      <td>1</td>\n",
       "      <td>5955</td>\n",
       "      <td>05-01-2018</td>\n",
       "    </tr>\n",
       "    <tr>\n",
       "      <th>...</th>\n",
       "      <td>...</td>\n",
       "      <td>...</td>\n",
       "      <td>...</td>\n",
       "      <td>...</td>\n",
       "      <td>...</td>\n",
       "      <td>...</td>\n",
       "      <td>...</td>\n",
       "      <td>...</td>\n",
       "      <td>...</td>\n",
       "      <td>...</td>\n",
       "      <td>...</td>\n",
       "      <td>...</td>\n",
       "      <td>...</td>\n",
       "    </tr>\n",
       "    <tr>\n",
       "      <th>301201</th>\n",
       "      <td>1300218</td>\n",
       "      <td>Vistara</td>\n",
       "      <td>UK-747</td>\n",
       "      <td>Delhi</td>\n",
       "      <td>Early_Morning</td>\n",
       "      <td>one</td>\n",
       "      <td>Night</td>\n",
       "      <td>Mumbai</td>\n",
       "      <td>Economy</td>\n",
       "      <td>113.83</td>\n",
       "      <td>1</td>\n",
       "      <td>14985</td>\n",
       "      <td>15-03-2018</td>\n",
       "    </tr>\n",
       "    <tr>\n",
       "      <th>301202</th>\n",
       "      <td>1300219</td>\n",
       "      <td>Air_India</td>\n",
       "      <td>AI-512</td>\n",
       "      <td>Delhi</td>\n",
       "      <td>Afternoon</td>\n",
       "      <td>one</td>\n",
       "      <td>Night</td>\n",
       "      <td>Mumbai</td>\n",
       "      <td>Economy</td>\n",
       "      <td>97.58</td>\n",
       "      <td>1</td>\n",
       "      <td>14670</td>\n",
       "      <td>16-03-2018</td>\n",
       "    </tr>\n",
       "    <tr>\n",
       "      <th>301203</th>\n",
       "      <td>1300220</td>\n",
       "      <td>Air_India</td>\n",
       "      <td>AI-537</td>\n",
       "      <td>Delhi</td>\n",
       "      <td>Evening</td>\n",
       "      <td>one</td>\n",
       "      <td>Morning</td>\n",
       "      <td>Mumbai</td>\n",
       "      <td>Economy</td>\n",
       "      <td>115.83</td>\n",
       "      <td>1</td>\n",
       "      <td>15195</td>\n",
       "      <td>17-03-2018</td>\n",
       "    </tr>\n",
       "    <tr>\n",
       "      <th>301204</th>\n",
       "      <td>1300221</td>\n",
       "      <td>Vistara</td>\n",
       "      <td>UK-977</td>\n",
       "      <td>Delhi</td>\n",
       "      <td>Evening</td>\n",
       "      <td>zero</td>\n",
       "      <td>Night</td>\n",
       "      <td>Mumbai</td>\n",
       "      <td>Economy</td>\n",
       "      <td>622.25</td>\n",
       "      <td>1</td>\n",
       "      <td>15720</td>\n",
       "      <td>18-03-2018</td>\n",
       "    </tr>\n",
       "    <tr>\n",
       "      <th>301205</th>\n",
       "      <td>1300222</td>\n",
       "      <td>Vistara</td>\n",
       "      <td>UK-809</td>\n",
       "      <td>Delhi</td>\n",
       "      <td>Evening</td>\n",
       "      <td>one</td>\n",
       "      <td>Night</td>\n",
       "      <td>Mumbai</td>\n",
       "      <td>Economy</td>\n",
       "      <td>124.42</td>\n",
       "      <td>1</td>\n",
       "      <td>15983</td>\n",
       "      <td>19-03-2018</td>\n",
       "    </tr>\n",
       "  </tbody>\n",
       "</table>\n",
       "<p>358 rows × 13 columns</p>\n",
       "</div>"
      ],
      "text/plain": [
       "        Unnamed: 0    airline   flight source_city departure_time stops  \\\n",
       "0                0   SpiceJet  SG-8709       Delhi        Evening  zero   \n",
       "1                1   SpiceJet  SG-8157       Delhi  Early_Morning  zero   \n",
       "2                2    AirAsia   I5-764       Delhi  Early_Morning  zero   \n",
       "3                3    Vistara   UK-995       Delhi        Morning  zero   \n",
       "4                4    Vistara   UK-963       Delhi        Morning  zero   \n",
       "...            ...        ...      ...         ...            ...   ...   \n",
       "301201     1300218    Vistara   UK-747       Delhi  Early_Morning   one   \n",
       "301202     1300219  Air_India   AI-512       Delhi      Afternoon   one   \n",
       "301203     1300220  Air_India   AI-537       Delhi        Evening   one   \n",
       "301204     1300221    Vistara   UK-977       Delhi        Evening  zero   \n",
       "301205     1300222    Vistara   UK-809       Delhi        Evening   one   \n",
       "\n",
       "         arrival_time destination_city    class  duration  days_left  price  \\\n",
       "0               Night           Mumbai  Economy      2.17          1   5953   \n",
       "1             Morning           Mumbai  Economy      2.33          1   5953   \n",
       "2       Early_Morning           Mumbai  Economy      2.17          1   5956   \n",
       "3           Afternoon           Mumbai  Economy      2.25          1   5955   \n",
       "4             Morning           Mumbai  Economy      2.33          1   5955   \n",
       "...               ...              ...      ...       ...        ...    ...   \n",
       "301201          Night           Mumbai  Economy    113.83          1  14985   \n",
       "301202          Night           Mumbai  Economy     97.58          1  14670   \n",
       "301203        Morning           Mumbai  Economy    115.83          1  15195   \n",
       "301204          Night           Mumbai  Economy    622.25          1  15720   \n",
       "301205          Night           Mumbai  Economy    124.42          1  15983   \n",
       "\n",
       "              date  \n",
       "0       01-01-2018  \n",
       "1       02-01-2018  \n",
       "2       03-01-2018  \n",
       "3       04-01-2018  \n",
       "4       05-01-2018  \n",
       "...            ...  \n",
       "301201  15-03-2018  \n",
       "301202  16-03-2018  \n",
       "301203  17-03-2018  \n",
       "301204  18-03-2018  \n",
       "301205  19-03-2018  \n",
       "\n",
       "[358 rows x 13 columns]"
      ]
     },
     "execution_count": 21,
     "metadata": {},
     "output_type": "execute_result"
    }
   ],
   "source": [
    "df"
   ]
  },
  {
   "cell_type": "code",
   "execution_count": 22,
   "id": "150a513f-8443-424b-8b36-d0a76d875ac3",
   "metadata": {},
   "outputs": [],
   "source": [
    "df.drop(['Unnamed: 0'],axis=1,inplace = True)"
   ]
  },
  {
   "cell_type": "code",
   "execution_count": 23,
   "id": "9783ccce-e120-498b-a8f0-dde62274da27",
   "metadata": {},
   "outputs": [
    {
     "data": {
      "text/html": [
       "<div>\n",
       "<style scoped>\n",
       "    .dataframe tbody tr th:only-of-type {\n",
       "        vertical-align: middle;\n",
       "    }\n",
       "\n",
       "    .dataframe tbody tr th {\n",
       "        vertical-align: top;\n",
       "    }\n",
       "\n",
       "    .dataframe thead th {\n",
       "        text-align: right;\n",
       "    }\n",
       "</style>\n",
       "<table border=\"1\" class=\"dataframe\">\n",
       "  <thead>\n",
       "    <tr style=\"text-align: right;\">\n",
       "      <th></th>\n",
       "      <th>airline</th>\n",
       "      <th>flight</th>\n",
       "      <th>source_city</th>\n",
       "      <th>departure_time</th>\n",
       "      <th>stops</th>\n",
       "      <th>arrival_time</th>\n",
       "      <th>destination_city</th>\n",
       "      <th>class</th>\n",
       "      <th>duration</th>\n",
       "      <th>days_left</th>\n",
       "      <th>price</th>\n",
       "      <th>date</th>\n",
       "    </tr>\n",
       "  </thead>\n",
       "  <tbody>\n",
       "    <tr>\n",
       "      <th>0</th>\n",
       "      <td>SpiceJet</td>\n",
       "      <td>SG-8709</td>\n",
       "      <td>Delhi</td>\n",
       "      <td>Evening</td>\n",
       "      <td>zero</td>\n",
       "      <td>Night</td>\n",
       "      <td>Mumbai</td>\n",
       "      <td>Economy</td>\n",
       "      <td>2.17</td>\n",
       "      <td>1</td>\n",
       "      <td>5953</td>\n",
       "      <td>01-01-2018</td>\n",
       "    </tr>\n",
       "    <tr>\n",
       "      <th>1</th>\n",
       "      <td>SpiceJet</td>\n",
       "      <td>SG-8157</td>\n",
       "      <td>Delhi</td>\n",
       "      <td>Early_Morning</td>\n",
       "      <td>zero</td>\n",
       "      <td>Morning</td>\n",
       "      <td>Mumbai</td>\n",
       "      <td>Economy</td>\n",
       "      <td>2.33</td>\n",
       "      <td>1</td>\n",
       "      <td>5953</td>\n",
       "      <td>02-01-2018</td>\n",
       "    </tr>\n",
       "  </tbody>\n",
       "</table>\n",
       "</div>"
      ],
      "text/plain": [
       "    airline   flight source_city departure_time stops arrival_time  \\\n",
       "0  SpiceJet  SG-8709       Delhi        Evening  zero        Night   \n",
       "1  SpiceJet  SG-8157       Delhi  Early_Morning  zero      Morning   \n",
       "\n",
       "  destination_city    class  duration  days_left price        date  \n",
       "0           Mumbai  Economy      2.17          1  5953  01-01-2018  \n",
       "1           Mumbai  Economy      2.33          1  5953  02-01-2018  "
      ]
     },
     "execution_count": 23,
     "metadata": {},
     "output_type": "execute_result"
    }
   ],
   "source": [
    "df.head(2)"
   ]
  },
  {
   "cell_type": "code",
   "execution_count": 26,
   "id": "34f87161-be11-4022-8646-5272b5548ec6",
   "metadata": {},
   "outputs": [],
   "source": [
    "df['price']=pd.to_numeric(df['price'],errors='coerce')"
   ]
  },
  {
   "cell_type": "code",
   "execution_count": 28,
   "id": "108002d9-e4a8-45d8-9ee2-dc4f384e484f",
   "metadata": {},
   "outputs": [
    {
     "data": {
      "text/html": [
       "<div>\n",
       "<style scoped>\n",
       "    .dataframe tbody tr th:only-of-type {\n",
       "        vertical-align: middle;\n",
       "    }\n",
       "\n",
       "    .dataframe tbody tr th {\n",
       "        vertical-align: top;\n",
       "    }\n",
       "\n",
       "    .dataframe thead th {\n",
       "        text-align: right;\n",
       "    }\n",
       "</style>\n",
       "<table border=\"1\" class=\"dataframe\">\n",
       "  <thead>\n",
       "    <tr style=\"text-align: right;\">\n",
       "      <th></th>\n",
       "      <th>airline</th>\n",
       "      <th>flight</th>\n",
       "      <th>source_city</th>\n",
       "      <th>departure_time</th>\n",
       "      <th>stops</th>\n",
       "      <th>arrival_time</th>\n",
       "      <th>destination_city</th>\n",
       "      <th>class</th>\n",
       "      <th>duration</th>\n",
       "      <th>days_left</th>\n",
       "      <th>price</th>\n",
       "      <th>date</th>\n",
       "    </tr>\n",
       "  </thead>\n",
       "  <tbody>\n",
       "    <tr>\n",
       "      <th>0</th>\n",
       "      <td>SpiceJet</td>\n",
       "      <td>SG-8709</td>\n",
       "      <td>Delhi</td>\n",
       "      <td>Evening</td>\n",
       "      <td>zero</td>\n",
       "      <td>Night</td>\n",
       "      <td>Mumbai</td>\n",
       "      <td>Economy</td>\n",
       "      <td>2.17</td>\n",
       "      <td>1</td>\n",
       "      <td>5953</td>\n",
       "      <td>01-01-2018</td>\n",
       "    </tr>\n",
       "    <tr>\n",
       "      <th>1</th>\n",
       "      <td>SpiceJet</td>\n",
       "      <td>SG-8157</td>\n",
       "      <td>Delhi</td>\n",
       "      <td>Early_Morning</td>\n",
       "      <td>zero</td>\n",
       "      <td>Morning</td>\n",
       "      <td>Mumbai</td>\n",
       "      <td>Economy</td>\n",
       "      <td>2.33</td>\n",
       "      <td>1</td>\n",
       "      <td>5953</td>\n",
       "      <td>02-01-2018</td>\n",
       "    </tr>\n",
       "    <tr>\n",
       "      <th>2</th>\n",
       "      <td>AirAsia</td>\n",
       "      <td>I5-764</td>\n",
       "      <td>Delhi</td>\n",
       "      <td>Early_Morning</td>\n",
       "      <td>zero</td>\n",
       "      <td>Early_Morning</td>\n",
       "      <td>Mumbai</td>\n",
       "      <td>Economy</td>\n",
       "      <td>2.17</td>\n",
       "      <td>1</td>\n",
       "      <td>5956</td>\n",
       "      <td>03-01-2018</td>\n",
       "    </tr>\n",
       "    <tr>\n",
       "      <th>3</th>\n",
       "      <td>Vistara</td>\n",
       "      <td>UK-995</td>\n",
       "      <td>Delhi</td>\n",
       "      <td>Morning</td>\n",
       "      <td>zero</td>\n",
       "      <td>Afternoon</td>\n",
       "      <td>Mumbai</td>\n",
       "      <td>Economy</td>\n",
       "      <td>2.25</td>\n",
       "      <td>1</td>\n",
       "      <td>5955</td>\n",
       "      <td>04-01-2018</td>\n",
       "    </tr>\n",
       "    <tr>\n",
       "      <th>4</th>\n",
       "      <td>Vistara</td>\n",
       "      <td>UK-963</td>\n",
       "      <td>Delhi</td>\n",
       "      <td>Morning</td>\n",
       "      <td>zero</td>\n",
       "      <td>Morning</td>\n",
       "      <td>Mumbai</td>\n",
       "      <td>Economy</td>\n",
       "      <td>2.33</td>\n",
       "      <td>1</td>\n",
       "      <td>5955</td>\n",
       "      <td>05-01-2018</td>\n",
       "    </tr>\n",
       "    <tr>\n",
       "      <th>...</th>\n",
       "      <td>...</td>\n",
       "      <td>...</td>\n",
       "      <td>...</td>\n",
       "      <td>...</td>\n",
       "      <td>...</td>\n",
       "      <td>...</td>\n",
       "      <td>...</td>\n",
       "      <td>...</td>\n",
       "      <td>...</td>\n",
       "      <td>...</td>\n",
       "      <td>...</td>\n",
       "      <td>...</td>\n",
       "    </tr>\n",
       "    <tr>\n",
       "      <th>301201</th>\n",
       "      <td>Vistara</td>\n",
       "      <td>UK-747</td>\n",
       "      <td>Delhi</td>\n",
       "      <td>Early_Morning</td>\n",
       "      <td>one</td>\n",
       "      <td>Night</td>\n",
       "      <td>Mumbai</td>\n",
       "      <td>Economy</td>\n",
       "      <td>113.83</td>\n",
       "      <td>1</td>\n",
       "      <td>14985</td>\n",
       "      <td>15-03-2018</td>\n",
       "    </tr>\n",
       "    <tr>\n",
       "      <th>301202</th>\n",
       "      <td>Air_India</td>\n",
       "      <td>AI-512</td>\n",
       "      <td>Delhi</td>\n",
       "      <td>Afternoon</td>\n",
       "      <td>one</td>\n",
       "      <td>Night</td>\n",
       "      <td>Mumbai</td>\n",
       "      <td>Economy</td>\n",
       "      <td>97.58</td>\n",
       "      <td>1</td>\n",
       "      <td>14670</td>\n",
       "      <td>16-03-2018</td>\n",
       "    </tr>\n",
       "    <tr>\n",
       "      <th>301203</th>\n",
       "      <td>Air_India</td>\n",
       "      <td>AI-537</td>\n",
       "      <td>Delhi</td>\n",
       "      <td>Evening</td>\n",
       "      <td>one</td>\n",
       "      <td>Morning</td>\n",
       "      <td>Mumbai</td>\n",
       "      <td>Economy</td>\n",
       "      <td>115.83</td>\n",
       "      <td>1</td>\n",
       "      <td>15195</td>\n",
       "      <td>17-03-2018</td>\n",
       "    </tr>\n",
       "    <tr>\n",
       "      <th>301204</th>\n",
       "      <td>Vistara</td>\n",
       "      <td>UK-977</td>\n",
       "      <td>Delhi</td>\n",
       "      <td>Evening</td>\n",
       "      <td>zero</td>\n",
       "      <td>Night</td>\n",
       "      <td>Mumbai</td>\n",
       "      <td>Economy</td>\n",
       "      <td>622.25</td>\n",
       "      <td>1</td>\n",
       "      <td>15720</td>\n",
       "      <td>18-03-2018</td>\n",
       "    </tr>\n",
       "    <tr>\n",
       "      <th>301205</th>\n",
       "      <td>Vistara</td>\n",
       "      <td>UK-809</td>\n",
       "      <td>Delhi</td>\n",
       "      <td>Evening</td>\n",
       "      <td>one</td>\n",
       "      <td>Night</td>\n",
       "      <td>Mumbai</td>\n",
       "      <td>Economy</td>\n",
       "      <td>124.42</td>\n",
       "      <td>1</td>\n",
       "      <td>15983</td>\n",
       "      <td>19-03-2018</td>\n",
       "    </tr>\n",
       "  </tbody>\n",
       "</table>\n",
       "<p>358 rows × 12 columns</p>\n",
       "</div>"
      ],
      "text/plain": [
       "          airline   flight source_city departure_time stops   arrival_time  \\\n",
       "0        SpiceJet  SG-8709       Delhi        Evening  zero          Night   \n",
       "1        SpiceJet  SG-8157       Delhi  Early_Morning  zero        Morning   \n",
       "2         AirAsia   I5-764       Delhi  Early_Morning  zero  Early_Morning   \n",
       "3         Vistara   UK-995       Delhi        Morning  zero      Afternoon   \n",
       "4         Vistara   UK-963       Delhi        Morning  zero        Morning   \n",
       "...           ...      ...         ...            ...   ...            ...   \n",
       "301201    Vistara   UK-747       Delhi  Early_Morning   one          Night   \n",
       "301202  Air_India   AI-512       Delhi      Afternoon   one          Night   \n",
       "301203  Air_India   AI-537       Delhi        Evening   one        Morning   \n",
       "301204    Vistara   UK-977       Delhi        Evening  zero          Night   \n",
       "301205    Vistara   UK-809       Delhi        Evening   one          Night   \n",
       "\n",
       "       destination_city    class  duration  days_left  price        date  \n",
       "0                Mumbai  Economy      2.17          1   5953  01-01-2018  \n",
       "1                Mumbai  Economy      2.33          1   5953  02-01-2018  \n",
       "2                Mumbai  Economy      2.17          1   5956  03-01-2018  \n",
       "3                Mumbai  Economy      2.25          1   5955  04-01-2018  \n",
       "4                Mumbai  Economy      2.33          1   5955  05-01-2018  \n",
       "...                 ...      ...       ...        ...    ...         ...  \n",
       "301201           Mumbai  Economy    113.83          1  14985  15-03-2018  \n",
       "301202           Mumbai  Economy     97.58          1  14670  16-03-2018  \n",
       "301203           Mumbai  Economy    115.83          1  15195  17-03-2018  \n",
       "301204           Mumbai  Economy    622.25          1  15720  18-03-2018  \n",
       "301205           Mumbai  Economy    124.42          1  15983  19-03-2018  \n",
       "\n",
       "[358 rows x 12 columns]"
      ]
     },
     "execution_count": 28,
     "metadata": {},
     "output_type": "execute_result"
    }
   ],
   "source": [
    "df"
   ]
  },
  {
   "cell_type": "code",
   "execution_count": 29,
   "id": "25ee8340-0407-4f8c-8169-10c14f5a35d5",
   "metadata": {},
   "outputs": [],
   "source": [
    "df['arrival_time']=df['arrival_time'].str.replace('Early_Morning','Morning')"
   ]
  },
  {
   "cell_type": "code",
   "execution_count": 31,
   "id": "337f5ffb-61fe-4bdc-aafc-0c728c280b14",
   "metadata": {},
   "outputs": [
    {
     "data": {
      "text/plain": [
       "array(['Night', 'Morning', 'Afternoon', 'Evening', 'Late_Night'],\n",
       "      dtype=object)"
      ]
     },
     "execution_count": 31,
     "metadata": {},
     "output_type": "execute_result"
    }
   ],
   "source": [
    "df['arrival_time'].unique()"
   ]
  },
  {
   "cell_type": "code",
   "execution_count": 32,
   "id": "ba398165-496f-4cf7-8797-ecfdf8eced44",
   "metadata": {},
   "outputs": [],
   "source": [
    "df['arrival_time']=df['arrival_time'].str.replace('Late_Night','Night')"
   ]
  },
  {
   "cell_type": "code",
   "execution_count": 33,
   "id": "65ce199c-c15e-4b68-a4ff-41fcb2fec855",
   "metadata": {},
   "outputs": [
    {
     "data": {
      "text/plain": [
       "array(['Night', 'Morning', 'Afternoon', 'Evening'], dtype=object)"
      ]
     },
     "execution_count": 33,
     "metadata": {},
     "output_type": "execute_result"
    }
   ],
   "source": [
    "df['arrival_time'].unique()"
   ]
  },
  {
   "cell_type": "code",
   "execution_count": 34,
   "id": "f8bf599e-6f93-4ccc-87c7-4c012704988a",
   "metadata": {},
   "outputs": [
    {
     "data": {
      "text/plain": [
       "array(['SpiceJet', 'AirAsia', 'Vistara', 'GO_FIRST', 'Indigo',\n",
       "       'Air_India'], dtype=object)"
      ]
     },
     "execution_count": 34,
     "metadata": {},
     "output_type": "execute_result"
    }
   ],
   "source": [
    "df['airline'].unique()"
   ]
  },
  {
   "cell_type": "code",
   "execution_count": 35,
   "id": "1e2e9ffd-4fca-4e4a-8700-71dca0e97d27",
   "metadata": {},
   "outputs": [
    {
     "data": {
      "text/plain": [
       "array(['Economy'], dtype=object)"
      ]
     },
     "execution_count": 35,
     "metadata": {},
     "output_type": "execute_result"
    }
   ],
   "source": [
    "df['class'].unique()"
   ]
  },
  {
   "cell_type": "code",
   "execution_count": 36,
   "id": "ede65f8e-f680-4db8-bb7a-e37a6be31b44",
   "metadata": {},
   "outputs": [
    {
     "data": {
      "text/plain": [
       "array(['Evening', 'Early_Morning', 'Morning', 'Afternoon', 'Night'],\n",
       "      dtype=object)"
      ]
     },
     "execution_count": 36,
     "metadata": {},
     "output_type": "execute_result"
    }
   ],
   "source": [
    "df['departure_time'].unique()"
   ]
  },
  {
   "cell_type": "code",
   "execution_count": 37,
   "id": "df029b33-1693-4d85-a38a-3cac83f2809f",
   "metadata": {},
   "outputs": [],
   "source": [
    "df['departure_time']=df['departure_time'].str.replace('Early_Morning','Morning')"
   ]
  },
  {
   "cell_type": "code",
   "execution_count": 38,
   "id": "12b90006-6663-43d0-9c01-35fb1a8e3ad2",
   "metadata": {},
   "outputs": [
    {
     "data": {
      "text/plain": [
       "array(['Evening', 'Morning', 'Afternoon', 'Night'], dtype=object)"
      ]
     },
     "execution_count": 38,
     "metadata": {},
     "output_type": "execute_result"
    }
   ],
   "source": [
    "df['departure_time'].unique()"
   ]
  },
  {
   "cell_type": "code",
   "execution_count": 39,
   "id": "95b98009-ddae-4caa-83f3-94fdb8928343",
   "metadata": {},
   "outputs": [
    {
     "data": {
      "text/plain": [
       "array(['Mumbai'], dtype=object)"
      ]
     },
     "execution_count": 39,
     "metadata": {},
     "output_type": "execute_result"
    }
   ],
   "source": [
    "df['destination_city'].unique()"
   ]
  },
  {
   "cell_type": "code",
   "execution_count": 40,
   "id": "3f718f0e-aee5-4cdb-abfa-c53543b4c31f",
   "metadata": {},
   "outputs": [
    {
     "data": {
      "text/plain": [
       "array(['Delhi'], dtype=object)"
      ]
     },
     "execution_count": 40,
     "metadata": {},
     "output_type": "execute_result"
    }
   ],
   "source": [
    "df['source_city'].unique()"
   ]
  },
  {
   "cell_type": "code",
   "execution_count": 41,
   "id": "3f5a3163-01a7-48d5-a959-864f79132e19",
   "metadata": {},
   "outputs": [
    {
     "data": {
      "text/html": [
       "<div>\n",
       "<style scoped>\n",
       "    .dataframe tbody tr th:only-of-type {\n",
       "        vertical-align: middle;\n",
       "    }\n",
       "\n",
       "    .dataframe tbody tr th {\n",
       "        vertical-align: top;\n",
       "    }\n",
       "\n",
       "    .dataframe thead th {\n",
       "        text-align: right;\n",
       "    }\n",
       "</style>\n",
       "<table border=\"1\" class=\"dataframe\">\n",
       "  <thead>\n",
       "    <tr style=\"text-align: right;\">\n",
       "      <th></th>\n",
       "      <th>airline</th>\n",
       "      <th>flight</th>\n",
       "      <th>source_city</th>\n",
       "      <th>departure_time</th>\n",
       "      <th>stops</th>\n",
       "      <th>arrival_time</th>\n",
       "      <th>destination_city</th>\n",
       "      <th>class</th>\n",
       "      <th>duration</th>\n",
       "      <th>days_left</th>\n",
       "      <th>price</th>\n",
       "      <th>date</th>\n",
       "    </tr>\n",
       "  </thead>\n",
       "  <tbody>\n",
       "    <tr>\n",
       "      <th>0</th>\n",
       "      <td>SpiceJet</td>\n",
       "      <td>SG-8709</td>\n",
       "      <td>Delhi</td>\n",
       "      <td>Evening</td>\n",
       "      <td>zero</td>\n",
       "      <td>Night</td>\n",
       "      <td>Mumbai</td>\n",
       "      <td>Economy</td>\n",
       "      <td>2.17</td>\n",
       "      <td>1</td>\n",
       "      <td>5953</td>\n",
       "      <td>01-01-2018</td>\n",
       "    </tr>\n",
       "    <tr>\n",
       "      <th>1</th>\n",
       "      <td>SpiceJet</td>\n",
       "      <td>SG-8157</td>\n",
       "      <td>Delhi</td>\n",
       "      <td>Morning</td>\n",
       "      <td>zero</td>\n",
       "      <td>Morning</td>\n",
       "      <td>Mumbai</td>\n",
       "      <td>Economy</td>\n",
       "      <td>2.33</td>\n",
       "      <td>1</td>\n",
       "      <td>5953</td>\n",
       "      <td>02-01-2018</td>\n",
       "    </tr>\n",
       "    <tr>\n",
       "      <th>2</th>\n",
       "      <td>AirAsia</td>\n",
       "      <td>I5-764</td>\n",
       "      <td>Delhi</td>\n",
       "      <td>Morning</td>\n",
       "      <td>zero</td>\n",
       "      <td>Morning</td>\n",
       "      <td>Mumbai</td>\n",
       "      <td>Economy</td>\n",
       "      <td>2.17</td>\n",
       "      <td>1</td>\n",
       "      <td>5956</td>\n",
       "      <td>03-01-2018</td>\n",
       "    </tr>\n",
       "    <tr>\n",
       "      <th>3</th>\n",
       "      <td>Vistara</td>\n",
       "      <td>UK-995</td>\n",
       "      <td>Delhi</td>\n",
       "      <td>Morning</td>\n",
       "      <td>zero</td>\n",
       "      <td>Afternoon</td>\n",
       "      <td>Mumbai</td>\n",
       "      <td>Economy</td>\n",
       "      <td>2.25</td>\n",
       "      <td>1</td>\n",
       "      <td>5955</td>\n",
       "      <td>04-01-2018</td>\n",
       "    </tr>\n",
       "    <tr>\n",
       "      <th>4</th>\n",
       "      <td>Vistara</td>\n",
       "      <td>UK-963</td>\n",
       "      <td>Delhi</td>\n",
       "      <td>Morning</td>\n",
       "      <td>zero</td>\n",
       "      <td>Morning</td>\n",
       "      <td>Mumbai</td>\n",
       "      <td>Economy</td>\n",
       "      <td>2.33</td>\n",
       "      <td>1</td>\n",
       "      <td>5955</td>\n",
       "      <td>05-01-2018</td>\n",
       "    </tr>\n",
       "    <tr>\n",
       "      <th>...</th>\n",
       "      <td>...</td>\n",
       "      <td>...</td>\n",
       "      <td>...</td>\n",
       "      <td>...</td>\n",
       "      <td>...</td>\n",
       "      <td>...</td>\n",
       "      <td>...</td>\n",
       "      <td>...</td>\n",
       "      <td>...</td>\n",
       "      <td>...</td>\n",
       "      <td>...</td>\n",
       "      <td>...</td>\n",
       "    </tr>\n",
       "    <tr>\n",
       "      <th>301201</th>\n",
       "      <td>Vistara</td>\n",
       "      <td>UK-747</td>\n",
       "      <td>Delhi</td>\n",
       "      <td>Morning</td>\n",
       "      <td>one</td>\n",
       "      <td>Night</td>\n",
       "      <td>Mumbai</td>\n",
       "      <td>Economy</td>\n",
       "      <td>113.83</td>\n",
       "      <td>1</td>\n",
       "      <td>14985</td>\n",
       "      <td>15-03-2018</td>\n",
       "    </tr>\n",
       "    <tr>\n",
       "      <th>301202</th>\n",
       "      <td>Air_India</td>\n",
       "      <td>AI-512</td>\n",
       "      <td>Delhi</td>\n",
       "      <td>Afternoon</td>\n",
       "      <td>one</td>\n",
       "      <td>Night</td>\n",
       "      <td>Mumbai</td>\n",
       "      <td>Economy</td>\n",
       "      <td>97.58</td>\n",
       "      <td>1</td>\n",
       "      <td>14670</td>\n",
       "      <td>16-03-2018</td>\n",
       "    </tr>\n",
       "    <tr>\n",
       "      <th>301203</th>\n",
       "      <td>Air_India</td>\n",
       "      <td>AI-537</td>\n",
       "      <td>Delhi</td>\n",
       "      <td>Evening</td>\n",
       "      <td>one</td>\n",
       "      <td>Morning</td>\n",
       "      <td>Mumbai</td>\n",
       "      <td>Economy</td>\n",
       "      <td>115.83</td>\n",
       "      <td>1</td>\n",
       "      <td>15195</td>\n",
       "      <td>17-03-2018</td>\n",
       "    </tr>\n",
       "    <tr>\n",
       "      <th>301204</th>\n",
       "      <td>Vistara</td>\n",
       "      <td>UK-977</td>\n",
       "      <td>Delhi</td>\n",
       "      <td>Evening</td>\n",
       "      <td>zero</td>\n",
       "      <td>Night</td>\n",
       "      <td>Mumbai</td>\n",
       "      <td>Economy</td>\n",
       "      <td>622.25</td>\n",
       "      <td>1</td>\n",
       "      <td>15720</td>\n",
       "      <td>18-03-2018</td>\n",
       "    </tr>\n",
       "    <tr>\n",
       "      <th>301205</th>\n",
       "      <td>Vistara</td>\n",
       "      <td>UK-809</td>\n",
       "      <td>Delhi</td>\n",
       "      <td>Evening</td>\n",
       "      <td>one</td>\n",
       "      <td>Night</td>\n",
       "      <td>Mumbai</td>\n",
       "      <td>Economy</td>\n",
       "      <td>124.42</td>\n",
       "      <td>1</td>\n",
       "      <td>15983</td>\n",
       "      <td>19-03-2018</td>\n",
       "    </tr>\n",
       "  </tbody>\n",
       "</table>\n",
       "<p>358 rows × 12 columns</p>\n",
       "</div>"
      ],
      "text/plain": [
       "          airline   flight source_city departure_time stops arrival_time  \\\n",
       "0        SpiceJet  SG-8709       Delhi        Evening  zero        Night   \n",
       "1        SpiceJet  SG-8157       Delhi        Morning  zero      Morning   \n",
       "2         AirAsia   I5-764       Delhi        Morning  zero      Morning   \n",
       "3         Vistara   UK-995       Delhi        Morning  zero    Afternoon   \n",
       "4         Vistara   UK-963       Delhi        Morning  zero      Morning   \n",
       "...           ...      ...         ...            ...   ...          ...   \n",
       "301201    Vistara   UK-747       Delhi        Morning   one        Night   \n",
       "301202  Air_India   AI-512       Delhi      Afternoon   one        Night   \n",
       "301203  Air_India   AI-537       Delhi        Evening   one      Morning   \n",
       "301204    Vistara   UK-977       Delhi        Evening  zero        Night   \n",
       "301205    Vistara   UK-809       Delhi        Evening   one        Night   \n",
       "\n",
       "       destination_city    class  duration  days_left  price        date  \n",
       "0                Mumbai  Economy      2.17          1   5953  01-01-2018  \n",
       "1                Mumbai  Economy      2.33          1   5953  02-01-2018  \n",
       "2                Mumbai  Economy      2.17          1   5956  03-01-2018  \n",
       "3                Mumbai  Economy      2.25          1   5955  04-01-2018  \n",
       "4                Mumbai  Economy      2.33          1   5955  05-01-2018  \n",
       "...                 ...      ...       ...        ...    ...         ...  \n",
       "301201           Mumbai  Economy    113.83          1  14985  15-03-2018  \n",
       "301202           Mumbai  Economy     97.58          1  14670  16-03-2018  \n",
       "301203           Mumbai  Economy    115.83          1  15195  17-03-2018  \n",
       "301204           Mumbai  Economy    622.25          1  15720  18-03-2018  \n",
       "301205           Mumbai  Economy    124.42          1  15983  19-03-2018  \n",
       "\n",
       "[358 rows x 12 columns]"
      ]
     },
     "execution_count": 41,
     "metadata": {},
     "output_type": "execute_result"
    }
   ],
   "source": [
    "df"
   ]
  },
  {
   "cell_type": "code",
   "execution_count": null,
   "id": "4953b800-7eb9-4baf-853d-1abf3f2002e9",
   "metadata": {},
   "outputs": [],
   "source": [
    "df['airline'] = df['airline'].str.strip().str.title()"
   ]
  },
  {
   "cell_type": "code",
   "execution_count": 43,
   "id": "4fe7b89f-de09-47b9-a7a1-c52550c2e61c",
   "metadata": {},
   "outputs": [
    {
     "data": {
      "text/plain": [
       "array(['Spicejet', 'Airasia', 'Vistara', 'Go_First', 'Indigo',\n",
       "       'Air_India'], dtype=object)"
      ]
     },
     "execution_count": 43,
     "metadata": {},
     "output_type": "execute_result"
    }
   ],
   "source": [
    "df['airline'].unique()"
   ]
  },
  {
   "cell_type": "code",
   "execution_count": 44,
   "id": "ad1bcef6-2352-4ef2-accc-bfc211844744",
   "metadata": {},
   "outputs": [],
   "source": [
    "df['airline'] = df['airline'].str.replace('Go_First','Go First')"
   ]
  },
  {
   "cell_type": "code",
   "execution_count": 45,
   "id": "0d91efe6-ae2a-41a1-8688-e0b6b12f141d",
   "metadata": {},
   "outputs": [
    {
     "data": {
      "text/plain": [
       "array(['Spicejet', 'Airasia', 'Vistara', 'Go First', 'Indigo',\n",
       "       'Air_India'], dtype=object)"
      ]
     },
     "execution_count": 45,
     "metadata": {},
     "output_type": "execute_result"
    }
   ],
   "source": [
    "df['airline'].unique()"
   ]
  },
  {
   "cell_type": "code",
   "execution_count": 46,
   "id": "e6817d01-fc92-4ccb-8648-5603b8afc9b0",
   "metadata": {},
   "outputs": [],
   "source": [
    "df['airline'] = df['airline'].str.replace('Air_India','Air India')"
   ]
  },
  {
   "cell_type": "code",
   "execution_count": 47,
   "id": "77a84613-cc53-4f75-9b5e-aa5162cc2411",
   "metadata": {},
   "outputs": [
    {
     "data": {
      "text/plain": [
       "array(['Spicejet', 'Airasia', 'Vistara', 'Go First', 'Indigo',\n",
       "       'Air India'], dtype=object)"
      ]
     },
     "execution_count": 47,
     "metadata": {},
     "output_type": "execute_result"
    }
   ],
   "source": [
    "df['airline'].unique()"
   ]
  },
  {
   "cell_type": "code",
   "execution_count": 51,
   "id": "220a5dcb-1bd4-49ee-b79a-8e3df4e064ba",
   "metadata": {},
   "outputs": [],
   "source": [
    "file=r\"D:\\EXCELL\\Flight_Data.csv\"\n",
    "df.to_csv(file, encoding = 'unicode_escape')"
   ]
  },
  {
   "cell_type": "markdown",
   "id": "487909f9-75b5-4bfe-b43a-964167fa818b",
   "metadata": {},
   "source": [
    "##SAVED THE CLEANED DATA"
   ]
  },
  {
   "cell_type": "code",
   "execution_count": null,
   "id": "86b90521-d0bf-4172-8936-592242aac819",
   "metadata": {},
   "outputs": [],
   "source": []
  }
 ],
 "metadata": {
  "kernelspec": {
   "display_name": "Python 3 (ipykernel)",
   "language": "python",
   "name": "python3"
  },
  "language_info": {
   "codemirror_mode": {
    "name": "ipython",
    "version": 3
   },
   "file_extension": ".py",
   "mimetype": "text/x-python",
   "name": "python",
   "nbconvert_exporter": "python",
   "pygments_lexer": "ipython3",
   "version": "3.11.7"
  },
  "widgets": {
   "application/vnd.jupyter.widget-state+json": {
    "state": {},
    "version_major": 2,
    "version_minor": 0
   }
  }
 },
 "nbformat": 4,
 "nbformat_minor": 5
}
